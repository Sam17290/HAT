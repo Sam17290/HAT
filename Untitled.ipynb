{
 "cells": [
  {
   "cell_type": "code",
   "execution_count": 1,
   "id": "148d2c8b",
   "metadata": {},
   "outputs": [],
   "source": [
    "from usgs_api import get_data"
   ]
  },
  {
   "cell_type": "code",
   "execution_count": 2,
   "id": "a26b7e0b",
   "metadata": {},
   "outputs": [],
   "source": [
    "site_no='13060000'\n",
    "begin_date = '2019-01-01'\n",
    "end_date = '2019-12-01'"
   ]
  },
  {
   "cell_type": "code",
   "execution_count": 3,
   "id": "c0d965e0",
   "metadata": {},
   "outputs": [
    {
     "name": "stdout",
     "output_type": "stream",
     "text": [
      "Data Options (15min/Daily): 15min\n",
      "Do you need hourly data (Y/N): N\n",
      "There is data missing in the NWIS database\n",
      "Missing data filled\n"
     ]
    }
   ],
   "source": [
    "flow_info = get_data(site_no,begin_date,end_date)"
   ]
  },
  {
   "cell_type": "code",
   "execution_count": 7,
   "id": "505a7163",
   "metadata": {},
   "outputs": [
    {
     "data": {
      "text/plain": [
       "[<matplotlib.lines.Line2D at 0x14f96866970>]"
      ]
     },
     "execution_count": 7,
     "metadata": {},
     "output_type": "execute_result"
    },
    {
     "data": {
      "image/png": "[encoded data removed]",
      "text/plain": [
       "<Figure size 432x288 with 1 Axes>"
      ]
     },
     "metadata": {
      "needs_background": "light"
     },
     "output_type": "display_data"
    }
   ],
   "source": [
    "import matplotlib.pyplot as plt\n",
    "plt.plot(flow_info['Flow (cfs)'])"
   ]
  },
  {
   "cell_type": "code",
   "execution_count": 8,
   "id": "3e8f5281",
   "metadata": {},
   "outputs": [
    {
     "data": {
      "text/html": [
       "<div>\n",
       "<style scoped>\n",
       "    .dataframe tbody tr th:only-of-type {\n",
       "        vertical-align: middle;\n",
       "    }\n",
       "\n",
       "    .dataframe tbody tr th {\n",
       "        vertical-align: top;\n",
       "    }\n",
       "\n",
       "    .dataframe thead th {\n",
       "        text-align: right;\n",
       "    }\n",
       "</style>\n",
       "<table border=\"1\" class=\"dataframe\">\n",
       "  <thead>\n",
       "    <tr style=\"text-align: right;\">\n",
       "      <th></th>\n",
       "      <th>Date/Time</th>\n",
       "      <th>Agency</th>\n",
       "      <th>Site_ID</th>\n",
       "      <th>TZ</th>\n",
       "      <th>Flow (cfs)</th>\n",
       "      <th>Indic</th>\n",
       "    </tr>\n",
       "  </thead>\n",
       "  <tbody>\n",
       "    <tr>\n",
       "      <th>0</th>\n",
       "      <td>2019-01-01 01:45:00</td>\n",
       "      <td>USGS</td>\n",
       "      <td>13060000.0</td>\n",
       "      <td>MST</td>\n",
       "      <td>1610.0</td>\n",
       "      <td>A:e</td>\n",
       "    </tr>\n",
       "    <tr>\n",
       "      <th>1</th>\n",
       "      <td>2019-01-01 02:00:00</td>\n",
       "      <td>USGS</td>\n",
       "      <td>13060000.0</td>\n",
       "      <td>MST</td>\n",
       "      <td>1610.0</td>\n",
       "      <td>A:e</td>\n",
       "    </tr>\n",
       "    <tr>\n",
       "      <th>2</th>\n",
       "      <td>2019-01-01 02:15:00</td>\n",
       "      <td>USGS</td>\n",
       "      <td>13060000.0</td>\n",
       "      <td>MST</td>\n",
       "      <td>1610.0</td>\n",
       "      <td>A:e</td>\n",
       "    </tr>\n",
       "    <tr>\n",
       "      <th>3</th>\n",
       "      <td>2019-01-01 02:30:00</td>\n",
       "      <td>USGS</td>\n",
       "      <td>13060000.0</td>\n",
       "      <td>MST</td>\n",
       "      <td>1610.0</td>\n",
       "      <td>A:e</td>\n",
       "    </tr>\n",
       "    <tr>\n",
       "      <th>4</th>\n",
       "      <td>2019-01-01 02:45:00</td>\n",
       "      <td>USGS</td>\n",
       "      <td>13060000.0</td>\n",
       "      <td>MST</td>\n",
       "      <td>1610.0</td>\n",
       "      <td>A:e</td>\n",
       "    </tr>\n",
       "    <tr>\n",
       "      <th>...</th>\n",
       "      <td>...</td>\n",
       "      <td>...</td>\n",
       "      <td>...</td>\n",
       "      <td>...</td>\n",
       "      <td>...</td>\n",
       "      <td>...</td>\n",
       "    </tr>\n",
       "    <tr>\n",
       "      <th>32143</th>\n",
       "      <td>2019-12-01 21:30:00</td>\n",
       "      <td>USGS</td>\n",
       "      <td>13060000.0</td>\n",
       "      <td>MST</td>\n",
       "      <td>2770.0</td>\n",
       "      <td>A</td>\n",
       "    </tr>\n",
       "    <tr>\n",
       "      <th>32144</th>\n",
       "      <td>2019-12-01 21:45:00</td>\n",
       "      <td>USGS</td>\n",
       "      <td>13060000.0</td>\n",
       "      <td>MST</td>\n",
       "      <td>2750.0</td>\n",
       "      <td>A</td>\n",
       "    </tr>\n",
       "    <tr>\n",
       "      <th>32145</th>\n",
       "      <td>2019-12-01 22:00:00</td>\n",
       "      <td>USGS</td>\n",
       "      <td>13060000.0</td>\n",
       "      <td>MST</td>\n",
       "      <td>2750.0</td>\n",
       "      <td>A</td>\n",
       "    </tr>\n",
       "    <tr>\n",
       "      <th>32146</th>\n",
       "      <td>2019-12-01 22:15:00</td>\n",
       "      <td>USGS</td>\n",
       "      <td>13060000.0</td>\n",
       "      <td>MST</td>\n",
       "      <td>2750.0</td>\n",
       "      <td>A</td>\n",
       "    </tr>\n",
       "    <tr>\n",
       "      <th>32147</th>\n",
       "      <td>2019-12-01 22:30:00</td>\n",
       "      <td>USGS</td>\n",
       "      <td>13060000.0</td>\n",
       "      <td>MST</td>\n",
       "      <td>2730.0</td>\n",
       "      <td>A:e</td>\n",
       "    </tr>\n",
       "  </tbody>\n",
       "</table>\n",
       "<p>32148 rows × 6 columns</p>\n",
       "</div>"
      ],
      "text/plain": [
       "                Date/Time Agency     Site_ID   TZ  Flow (cfs) Indic\n",
       "0     2019-01-01 01:45:00   USGS  13060000.0  MST      1610.0   A:e\n",
       "1     2019-01-01 02:00:00   USGS  13060000.0  MST      1610.0   A:e\n",
       "2     2019-01-01 02:15:00   USGS  13060000.0  MST      1610.0   A:e\n",
       "3     2019-01-01 02:30:00   USGS  13060000.0  MST      1610.0   A:e\n",
       "4     2019-01-01 02:45:00   USGS  13060000.0  MST      1610.0   A:e\n",
       "...                   ...    ...         ...  ...         ...   ...\n",
       "32143 2019-12-01 21:30:00   USGS  13060000.0  MST      2770.0     A\n",
       "32144 2019-12-01 21:45:00   USGS  13060000.0  MST      2750.0     A\n",
       "32145 2019-12-01 22:00:00   USGS  13060000.0  MST      2750.0     A\n",
       "32146 2019-12-01 22:15:00   USGS  13060000.0  MST      2750.0     A\n",
       "32147 2019-12-01 22:30:00   USGS  13060000.0  MST      2730.0   A:e\n",
       "\n",
       "[32148 rows x 6 columns]"
      ]
     },
     "execution_count": 8,
     "metadata": {},
     "output_type": "execute_result"
    }
   ],
   "source": [
    "flow_info"
   ]
  },
  {
   "cell_type": "code",
   "execution_count": null,
   "id": "62a45875",
   "metadata": {},
   "outputs": [],
   "source": []
  }
 ],
 "metadata": {
  "kernelspec": {
   "display_name": "Python 3 (ipykernel)",
   "language": "python",
   "name": "python3"
  },
  "language_info": {
   "codemirror_mode": {
    "name": "ipython",
    "version": 3
   },
   "file_extension": ".py",
   "mimetype": "text/x-python",
   "name": "python",
   "nbconvert_exporter": "python",
   "pygments_lexer": "ipython3",
   "version": "3.9.7"
  }
 },
 "nbformat": 4,
 "nbformat_minor": 5
}
