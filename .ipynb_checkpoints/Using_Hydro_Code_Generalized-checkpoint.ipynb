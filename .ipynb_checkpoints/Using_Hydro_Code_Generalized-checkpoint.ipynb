{
 "cells": [
  {
   "cell_type": "markdown",
   "metadata": {},
   "source": [
    "# An example demonstrating the use of Hydro Code (Generalized Example)"
   ]
  },
  {
   "cell_type": "markdown",
   "metadata": {},
   "source": [
    "**Importing the modules**"
   ]
  },
  {
   "cell_type": "code",
   "execution_count": 1,
   "metadata": {},
   "outputs": [],
   "source": [
    "from hydrogenerate import calculate_potential,get_energy\n",
    "from hydrogenerate_plot import get_plot"
   ]
  },
  {
   "cell_type": "markdown",
   "metadata": {},
   "source": [
    "# Creating a general Flow vs Efficiency curve to calculate potential Hydropower"
   ]
  },
  {
   "cell_type": "markdown",
   "metadata": {},
   "source": [
    "**calculate\\_potential(flow\\_info, rated\\_flow=None, rated\\_power=None, turb= None, head\\_input=40, op='Timeseries', sys\\_effi=None, system='pipe', flow\\_column=None)**\n",
    "\n",
    "\n",
    "**Input:**\n",
    "\n",
    "**flow\\_info:** Dataframe consisting of flow information.\n",
    "\n",
    "**rated\\_flow:** Design flow of the plant or channel in cubic feet/sec (cfs). If **None** or not provided, the maximum flow from the available data is considered as design flow. For _**op:** Generalized_, user must provide **rated\\_flow**. **Type: Float**\n",
    "\n",
    "**rated\\_power:** Rated or maximum capacity of turbine installed in MegaWatts (MW). If **None** or not provided, 75<sup>th</sup> percentile of computed power is considered as rated power, **Type: Float**.\n",
    "\n",
    "**turb**: Provide a choice for turbine selection. If **None** or not provided an appropriate turbine selection is made based on provided head.  **Type: String**\n",
    "\n",
    "_Options_: \n",
    "           \n",
    "- **Kaplan Turbine**;\n",
    "\n",
    "- **Francis Turbine**;\n",
    "\n",
    "- **Pelton Turbine**;\n",
    "\n",
    "- **Turgo Turbine**;\n",
    "\n",
    "- **Crossflow Turbine**;\n",
    "\n",
    "\n",
    "\n",
    "Default turbine selection based on **head\\_input:**\n",
    "\n",
    "|Head Category|Start (m)|End (m)|Suitable Turbine|k<sub>2</sub>|\n",
    "|--------------|-------|-------|-------|-------|\n",
    "|Very low head|0.5|10|Kaplan turbine|800|\n",
    "|Low head|10|60|Kaplan turbine|800|\n",
    "|Medium head|60|150|Francis turbine|600|\n",
    "|High head|150|350|Francis turbine|600|\n",
    "|Very high head|350|700|Pelton turbine|0|\n",
    "\n",
    "\n",
    "**head\\_input:** Head information provided by the user in feet (ft.).  **Type: Float**\n",
    "\n",
    "**op:** Options: {_'Generalized'_ and _'Timeseries'_}; **Default: 'Timeseries'**. **Type: String**\n",
    "\n",
    "- **'Generalized'** provides power in MW as a percentage of streamflow, \n",
    "\n",
    "- **'Timeseries'** calculates power in MW from timeseries streamflow values,\n",
    "\n",
    "**sys\\_effi:** Water to wire efficiency, If **None** or not provided **Default: 0.98 (98%)**, **Type: Float**\n",
    "\n",
    "**system:** Options:{_'pipe'_, _'canal'_ and _'reservoir'_}, **Default: 'pipe'**, **Type: String**\n",
    "\n",
    "System determines the percentage loss or head loss;\n",
    "\n",
    "For _'pipe': 5\\%_; _'canal': 20\\%_ and _'reservoir': 0.1\\%_\n",
    "\n",
    "**flow\\_column:** Name of the column containing flow information; If **None** or not provided **Default: 'Flow (cfs)'**, **Type: String**\n",
    "\n",
    "**Returns:** \n",
    "\n",
    "Dictionary; **{'power', 'efficiency', 'flow', 'turb\\_cap'}**\n",
    "\n",
    "**power:** Numpy array of estimated power in MW\n",
    "\n",
    "**efficiency:** Numpy arrary of estimated turbine efficiency in percentage\n",
    "\n",
    "**flow:** Numpy array of water flow rate in cfs\n",
    "\n",
    "**turb\\_cap:** Float value of estimated turbine capacity in MW"
   ]
  },
  {
   "cell_type": "code",
   "execution_count": 2,
   "metadata": {},
   "outputs": [],
   "source": [
    "x= calculate_potential(rated_flow=850,head_input=20,op='Generalized',system='pipe')"
   ]
  },
  {
   "cell_type": "markdown",
   "metadata": {},
   "source": [
    "Assigning Variable Names to the elements in the dictionary"
   ]
  },
  {
   "cell_type": "code",
   "execution_count": 3,
   "metadata": {},
   "outputs": [],
   "source": [
    "power = x[\"power\"]\n",
    "\n",
    "efficiency = x[\"efficiency\"]\n",
    "\n",
    "flow_range = x[\"flow\"]\n",
    "\n",
    "turb_cap = x[\"turbine_capacity\"]"
   ]
  },
  {
   "cell_type": "markdown",
   "metadata": {},
   "source": [
    "# Calculate Energy Potential and Estimated Costs"
   ]
  },
  {
   "cell_type": "markdown",
   "metadata": {},
   "source": [
    "**get\\_energy(power, turb\\_cap, flow\\_info, time\\_step= None, op, energy\\_cost= None, const\\_cost= None)**\n",
    "\n",
    "**Input:**\n",
    "\n",
    "**power:** Numpy array containing calculated power.\n",
    "\n",
    "**flow\\_info:** DataFrame consisting of flow information.\n",
    "\n",
    "**turb\\_cap:** Turbine capacity obtained from the previous function.\n",
    "\n",
    "**op:** Same as previous function.\n",
    "\n",
    "**time\\_step:** Essential for computing total energy in MWh; If None or not provided takes the _'Date/Time'_ column from **flow\\_info**. If provided by user input needs to be in hrs. **Type: Float**\n",
    "\n",
    "**energy\\_cost:** Sale price of energy generated in \\$. If None or not provided defaults to **4 cents/kWh**.\n",
    "\n",
    "**const\\_cost:** Estimated cost of construction of the plant. If None or not provided defaults to **4.1 million \\$/MW**.\n",
    "\n",
    "**Returns:**\n",
    "\n",
    "_Total Estimated Energy in MWh_\n",
    "\n",
    "_Expected Annual Revenue in \\$_\n",
    "\n",
    "_Expected Construction Cost in \\$_"
   ]
  },
  {
   "cell_type": "code",
   "execution_count": 4,
   "metadata": {},
   "outputs": [],
   "source": [
    "tot_mwh,revenue,const_cost = get_energy(power,turb_cap,op='Generalized')"
   ]
  },
  {
   "cell_type": "code",
   "execution_count": 5,
   "metadata": {},
   "outputs": [
    {
     "name": "stdout",
     "output_type": "stream",
     "text": [
      "Total Energy: 3345.1675650912157 MWh\n",
      "Total Expected Revenue: $ 1338.0670260364864\n",
      "Total Cost of Construction: 3.2711868784658478 Million $\n"
     ]
    }
   ],
   "source": [
    "print('Total Energy: {} MWh'.format(tot_mwh))\n",
    "print('Total Expected Revenue: $ {}'.format(revenue))\n",
    "print('Total Cost of Construction: {} Million $'.format(const_cost))"
   ]
  },
  {
   "cell_type": "markdown",
   "metadata": {},
   "source": [
    "# Plotting the results"
   ]
  },
  {
   "cell_type": "markdown",
   "metadata": {},
   "source": [
    "**get\\_plot(power, efficiency, flow\\_range, op, flow\\_info= None, rated\\_flow= None, font= None, fontsize= None)**\n",
    "             \n",
    "**Input:**\n",
    "\n",
    "**font:** Determines the type of font, Default: _'Times New Roman'_.\n",
    "\n",
    "**fontsize:** Determines the type of fontsize, Default: 15.\n",
    "\n",
    "**Returns:**\n",
    "\n",
    "Plot"
   ]
  },
  {
   "cell_type": "code",
   "execution_count": 6,
   "metadata": {},
   "outputs": [
    {
     "name": "stdout",
     "output_type": "stream",
     "text": [
      "Provide a title for the figure: Generalized Hydropower Generation\n"
     ]
    },
    {
     "name": "stderr",
     "output_type": "stream",
     "text": [
      "C:\\Users\\mitr284\\OneDrive - PNNL\\Documents\\GitHub\\My_Code\\My_HAT\\hydrogenerate_plot.py:107: UserWarning: FixedFormatter should only be used together with FixedLocator\n",
      "  ax.set_xticklabels(['{:,.0%}'.format(x) for x in vals])\n",
      "C:\\Users\\mitr284\\OneDrive - PNNL\\Documents\\GitHub\\My_Code\\My_HAT\\hydrogenerate_plot.py:115: UserWarning: FixedFormatter should only be used together with FixedLocator\n",
      "  ax1.set_xticklabels(['{:,.0%}'.format(x) for x in vals])\n",
      "findfont: Font family ['Time New Roman'] not found. Falling back to DejaVu Sans.\n"
     ]
    },
    {
     "data": {
      "image/png": "[encoded data removed]",
      "text/plain": [
       "<Figure size 432x288 with 2 Axes>"
      ]
     },
     "metadata": {
      "needs_background": "light"
     },
     "output_type": "display_data"
    }
   ],
   "source": [
    "get_plot(power,efficiency,flow_range,rated_flow=850,op='Generalized')"
   ]
  }
 ],
 "metadata": {
  "kernelspec": {
   "display_name": "Python 3 (ipykernel)",
   "language": "python",
   "name": "python3"
  },
  "language_info": {
   "codemirror_mode": {
    "name": "ipython",
    "version": 3
   },
   "file_extension": ".py",
   "mimetype": "text/x-python",
   "name": "python",
   "nbconvert_exporter": "python",
   "pygments_lexer": "ipython3",
   "version": "3.9.7"
  }
 },
 "nbformat": 4,
 "nbformat_minor": 4
}
